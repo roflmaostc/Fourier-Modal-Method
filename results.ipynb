{
 "cells": [
  {
   "cell_type": "code",
   "execution_count": 1,
   "metadata": {},
   "outputs": [],
   "source": [
    "import sys\n",
    "import numpy as np\n",
    "from fmm import fmm1d_te\n",
    "from matplotlib import pyplot as plt\n",
    "\n",
    "plt.rcParams.update({\n",
    "        'figure.figsize': (12/2.54, 9/2.54),\n",
    "        'figure.subplot.bottom': 0.145,\n",
    "        'figure.subplot.left': 0.165,\n",
    "        'figure.subplot.right': 0.9,\n",
    "        'figure.subplot.top': 0.9,\n",
    "        'figure.subplot.wspace': 0.35,\n",
    "        'figure.subplot.hspace': 0.3,\n",
    "        'axes.grid': False,\n",
    "        'image.cmap': 'viridis',\n",
    "})\n",
    "\n",
    "plt.close('all')\n",
    "np.set_printoptions(threshold=sys.maxsize)"
   ]
  },
  {
   "cell_type": "code",
   "execution_count": 6,
   "metadata": {},
   "outputs": [
    {
     "name": "stdout",
     "output_type": "stream",
     "text": [
      "matmul (41, 41)\n",
      "phi_e (41, 41)\n",
      "T_matrix (82, 82)\n",
      "B_matrix (82, 82)\n",
      "A_matrix (82, 82)\n",
      "A_matrix (82, 82)\n",
      "A_matrix (82, 82)\n",
      "[[-5.27683037e-05-1.09401998e-06j]\n",
      " [-4.81867719e-05-3.17495343e-05j]\n",
      " [ 1.60424472e-04-1.55827473e-04j]\n",
      " [-1.60240123e-04-2.86925268e-05j]\n",
      " [-1.12294017e-04-9.25150550e-05j]\n",
      " [-1.25009625e-03+9.16918685e-04j]\n",
      " [-1.65907822e-04+7.65361881e-06j]\n",
      " [-2.32271328e-04+6.93441291e-05j]\n",
      " [-3.08439676e-04+4.71843384e-04j]\n",
      " [-1.37260515e-04+2.47901379e-04j]\n",
      " [ 3.12718086e-04+4.86659921e-04j]\n",
      " [-1.23308184e-04+1.33045276e-04j]\n",
      " [-1.47473054e-04+1.41989564e-04j]\n",
      " [ 1.15655490e-04+2.05490536e-04j]\n",
      " [-1.08478413e-05+2.67285342e-04j]\n",
      " [ 3.09354695e-05+1.38964592e-04j]\n",
      " [ 1.67313655e-04+9.07886070e-04j]\n",
      " [ 6.75617808e-04-2.49832417e-05j]\n",
      " [ 2.72485199e-05-4.26179646e-04j]\n",
      " [ 5.98641601e-04+1.36717179e-04j]\n",
      " [ 7.31123325e-05+1.24394844e-04j]\n",
      " [ 3.99172982e-04-8.36906676e-04j]\n",
      " [ 2.70538192e-04+5.70533466e-04j]\n",
      " [-8.32430710e-05-2.77354069e-04j]\n",
      " [-1.52155569e-04-1.70057961e-04j]\n",
      " [-2.97908554e-04+3.88555550e-04j]\n",
      " [-1.99836257e-04+7.40696801e-04j]\n",
      " [ 5.56313070e-04-1.31820676e-03j]\n",
      " [ 3.78439770e-05-1.58776064e-04j]\n",
      " [-1.28077277e-04-1.46982805e-03j]\n",
      " [-6.90414573e-04+7.33784570e-04j]\n",
      " [-7.96154530e-04-4.17856020e-04j]\n",
      " [ 7.22158484e-06-2.82627904e-04j]\n",
      " [ 4.49762202e-04-1.12587525e-04j]\n",
      " [-2.64859672e-04+2.52813186e-04j]\n",
      " [ 3.56682633e-04+3.51012680e-04j]\n",
      " [-2.59970231e-04-5.86578224e-04j]\n",
      " [ 2.92086178e-04+7.13697226e-05j]\n",
      " [ 1.58930901e-04+2.26848398e-04j]\n",
      " [ 2.78767806e-04-1.51449396e-04j]\n",
      " [ 1.58988581e-04+6.88589830e-05j]]\n"
     ]
    }
   ],
   "source": [
    "\n",
    "# %% parameters %%%%%%%%%%%%%%%%%%%%%%%%%%%%%%%%%%%%%%%%%%%%%%%%%%%%%%%%%%%%%%%\n",
    "lam         = 1.064  # vacuum wavelength [µm]\n",
    "period      = 3.0    # period of the grating [µm]\n",
    "widths      = np.array([1, 2, 3])/4.0*period  # widths of the high index\n",
    "                                              # regions [µm]\n",
    "thicknesses = np.array([1, 1, 1])*0.25  # thicknesses of the\n",
    "                                        # grating layers [µm]\n",
    "perm_l      = 1.0   # permittivity of the low index regions of the grating\n",
    "perm_h      = 4.0   # permittivity of the high index regions of the grating\n",
    "perm_in     = 1.0   # permittivity on the incidence side\n",
    "perm_out    = 4.0   # permittivity on the exit side\n",
    "Nx          = 1001  # number of points to discretize the permittivity\n",
    "                    # ditribution\n",
    "N           = 20    # number of positive Fourier orders\n",
    "\n",
    "theta = 0\n",
    "\n",
    "\n",
    "x = np.arange(Nx) * period / Nx\n",
    "layer_perm = perm_l * np.ones((len(widths), Nx))\n",
    "\n",
    "for i in range(len(widths)):\n",
    "    layer_perm[i, x <= widths[i]] = perm_h\n",
    "\n",
    "\n",
    "eta_r, eta_t, r, t = fmm1d_te(lam, theta, period, perm_in, perm_out,\n",
    "                              layer_perm, thicknesses, N)\n",
    "\n",
    "print(t)"
   ]
  },
  {
   "cell_type": "code",
   "execution_count": null,
   "metadata": {},
   "outputs": [],
   "source": []
  },
  {
   "cell_type": "code",
   "execution_count": null,
   "metadata": {},
   "outputs": [],
   "source": []
  }
 ],
 "metadata": {
  "kernelspec": {
   "display_name": "Python 3",
   "language": "python",
   "name": "python3"
  },
  "language_info": {
   "codemirror_mode": {
    "name": "ipython",
    "version": 3
   },
   "file_extension": ".py",
   "mimetype": "text/x-python",
   "name": "python",
   "nbconvert_exporter": "python",
   "pygments_lexer": "ipython3",
   "version": "3.8.3"
  }
 },
 "nbformat": 4,
 "nbformat_minor": 2
}
